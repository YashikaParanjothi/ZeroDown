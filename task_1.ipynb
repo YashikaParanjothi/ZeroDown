{
  "cells": [
    {
      "cell_type": "code",
      "source": [
        "pip install geopandas"
      ],
      "metadata": {
        "colab": {
          "base_uri": "https://localhost:8080/"
        },
        "id": "4j5oTdqQeWHI",
        "outputId": "f48f9c9c-37f9-482c-bba4-9f5ebf29ca6e"
      },
      "execution_count": null,
      "outputs": [
        {
          "output_type": "stream",
          "name": "stdout",
          "text": [
            "Collecting geopandas\n",
            "  Downloading geopandas-0.10.2-py2.py3-none-any.whl (1.0 MB)\n",
            "\u001b[K     |████████████████████████████████| 1.0 MB 7.6 MB/s \n",
            "\u001b[?25hCollecting pyproj>=2.2.0\n",
            "  Downloading pyproj-3.2.1-cp37-cp37m-manylinux2010_x86_64.whl (6.3 MB)\n",
            "\u001b[K     |████████████████████████████████| 6.3 MB 54.2 MB/s \n",
            "\u001b[?25hCollecting fiona>=1.8\n",
            "  Downloading Fiona-1.8.21-cp37-cp37m-manylinux2014_x86_64.whl (16.7 MB)\n",
            "\u001b[K     |████████████████████████████████| 16.7 MB 35.9 MB/s \n",
            "\u001b[?25hRequirement already satisfied: pandas>=0.25.0 in /usr/local/lib/python3.7/dist-packages (from geopandas) (1.3.5)\n",
            "Requirement already satisfied: shapely>=1.6 in /usr/local/lib/python3.7/dist-packages (from geopandas) (1.8.1.post1)\n",
            "Collecting cligj>=0.5\n",
            "  Downloading cligj-0.7.2-py3-none-any.whl (7.1 kB)\n",
            "Requirement already satisfied: six>=1.7 in /usr/local/lib/python3.7/dist-packages (from fiona>=1.8->geopandas) (1.15.0)\n",
            "Requirement already satisfied: attrs>=17 in /usr/local/lib/python3.7/dist-packages (from fiona>=1.8->geopandas) (21.4.0)\n",
            "Requirement already satisfied: click>=4.0 in /usr/local/lib/python3.7/dist-packages (from fiona>=1.8->geopandas) (7.1.2)\n",
            "Collecting munch\n",
            "  Downloading munch-2.5.0-py2.py3-none-any.whl (10 kB)\n",
            "Requirement already satisfied: setuptools in /usr/local/lib/python3.7/dist-packages (from fiona>=1.8->geopandas) (57.4.0)\n",
            "Requirement already satisfied: certifi in /usr/local/lib/python3.7/dist-packages (from fiona>=1.8->geopandas) (2021.10.8)\n",
            "Collecting click-plugins>=1.0\n",
            "  Downloading click_plugins-1.1.1-py2.py3-none-any.whl (7.5 kB)\n",
            "Requirement already satisfied: pytz>=2017.3 in /usr/local/lib/python3.7/dist-packages (from pandas>=0.25.0->geopandas) (2018.9)\n",
            "Requirement already satisfied: numpy>=1.17.3 in /usr/local/lib/python3.7/dist-packages (from pandas>=0.25.0->geopandas) (1.21.5)\n",
            "Requirement already satisfied: python-dateutil>=2.7.3 in /usr/local/lib/python3.7/dist-packages (from pandas>=0.25.0->geopandas) (2.8.2)\n",
            "Installing collected packages: munch, cligj, click-plugins, pyproj, fiona, geopandas\n",
            "Successfully installed click-plugins-1.1.1 cligj-0.7.2 fiona-1.8.21 geopandas-0.10.2 munch-2.5.0 pyproj-3.2.1\n"
          ]
        }
      ]
    },
    {
      "cell_type": "code",
      "source": [
        "import geopandas as gpd\n",
        "import pandas as pd\n"
      ],
      "metadata": {
        "id": "X0AZBc4SefMs"
      },
      "execution_count": null,
      "outputs": []
    },
    {
      "cell_type": "code",
      "source": [
        "dataframes = gpd.read_file(\"/content/Agricultural_Minerals_Operations.shp\")"
      ],
      "metadata": {
        "id": "2bKLrONhenYl"
      },
      "execution_count": null,
      "outputs": []
    },
    {
      "cell_type": "code",
      "source": [
        "#dataframes = dataframes.set_geometry('geometry') \n"
      ],
      "metadata": {
        "id": "Yjjq67s5g3O3"
      },
      "execution_count": null,
      "outputs": []
    },
    {
      "cell_type": "code",
      "source": [
        "dataframes.shape"
      ],
      "metadata": {
        "colab": {
          "base_uri": "https://localhost:8080/"
        },
        "id": "fRBJnMLDhAO_",
        "outputId": "58247610-c35b-4e9c-e814-0c082701c2c8"
      },
      "execution_count": null,
      "outputs": [
        {
          "output_type": "execute_result",
          "data": {
            "text/plain": [
              "(236, 1)"
            ]
          },
          "metadata": {},
          "execution_count": 54
        }
      ]
    },
    {
      "cell_type": "code",
      "source": [
        "dataframes.plot()"
      ],
      "metadata": {
        "colab": {
          "base_uri": "https://localhost:8080/",
          "height": 202
        },
        "id": "_DbJVvWQhIJG",
        "outputId": "04ff8266-a0bd-4322-a938-e1a634fc17f9"
      },
      "execution_count": null,
      "outputs": [
        {
          "output_type": "execute_result",
          "data": {
            "text/plain": [
              "<matplotlib.axes._subplots.AxesSubplot at 0x7f8b6a0da690>"
            ]
          },
          "metadata": {},
          "execution_count": 55
        },
        {
          "output_type": "display_data",
          "data": {
            "text/plain": [
              "<Figure size 432x288 with 1 Axes>"
            ],
            "image/png": "[encoded data removed]"
          },
          "metadata": {
            "needs_background": "light"
          }
        }
      ]
    },
    {
      "cell_type": "code",
      "source": [
        "dataframe2 = gpd.read_file(\"/content/Non-Gasoline Alternative Fueling Stations.shp\")"
      ],
      "metadata": {
        "id": "UrEgS4OugAWL"
      },
      "execution_count": null,
      "outputs": []
    },
    {
      "cell_type": "code",
      "source": [
        "print(dataframe2.type)"
      ],
      "metadata": {
        "colab": {
          "base_uri": "https://localhost:8080/"
        },
        "id": "4_gHmf0egvSL",
        "outputId": "e18a65aa-388a-49c6-aded-1d0a4e02fe28"
      },
      "execution_count": null,
      "outputs": [
        {
          "output_type": "stream",
          "name": "stdout",
          "text": [
            "0        Point\n",
            "1        Point\n",
            "2        Point\n",
            "3        Point\n",
            "4        Point\n",
            "         ...  \n",
            "16927    Point\n",
            "16928    Point\n",
            "16929    Point\n",
            "16930    Point\n",
            "16931    Point\n",
            "Length: 16932, dtype: object\n"
          ]
        }
      ]
    },
    {
      "cell_type": "code",
      "source": [
        "#dataframe2 = dataframes.set_geometry('geometry') \n"
      ],
      "metadata": {
        "id": "g3-qq4Sphbk1"
      },
      "execution_count": null,
      "outputs": []
    },
    {
      "cell_type": "code",
      "source": [
        "print(dataframe2)"
      ],
      "metadata": {
        "colab": {
          "base_uri": "https://localhost:8080/"
        },
        "id": "d2vTaJLfjh5P",
        "outputId": "a1245976-44d6-4733-8a60-0ca9d53f9200"
      },
      "execution_count": null,
      "outputs": [
        {
          "output_type": "stream",
          "name": "stdout",
          "text": [
            "                          geometry\n",
            "0      POINT (-118.16903 33.81883)\n",
            "1      POINT (-118.21905 34.05742)\n",
            "2      POINT (-118.46689 34.03105)\n",
            "3      POINT (-118.01202 34.02968)\n",
            "4      POINT (-118.10661 33.96803)\n",
            "...                            ...\n",
            "16927  POINT (-124.11446 40.80789)\n",
            "16928  POINT (-122.42273 37.79012)\n",
            "16929  POINT (-122.60370 45.65040)\n",
            "16930  POINT (-123.56646 43.63628)\n",
            "16931  POINT (-124.21955 43.39467)\n",
            "\n",
            "[16932 rows x 1 columns]\n"
          ]
        }
      ]
    },
    {
      "cell_type": "code",
      "source": [
        "dataframe2.shape"
      ],
      "metadata": {
        "outputId": "9952fdd7-66ae-4de2-f5ec-108b78bd3215",
        "colab": {
          "base_uri": "https://localhost:8080/"
        },
        "id": "LHNW1jcohvfI"
      },
      "execution_count": null,
      "outputs": [
        {
          "output_type": "execute_result",
          "data": {
            "text/plain": [
              "(16932, 1)"
            ]
          },
          "metadata": {},
          "execution_count": 58
        }
      ]
    },
    {
      "cell_type": "code",
      "source": [
        "dataframe2.plot()"
      ],
      "metadata": {
        "outputId": "749f45ec-1cfa-4531-a822-9190b7679b3c",
        "colab": {
          "base_uri": "https://localhost:8080/",
          "height": 230
        },
        "id": "bZFSqVZUh4Le"
      },
      "execution_count": null,
      "outputs": [
        {
          "output_type": "execute_result",
          "data": {
            "text/plain": [
              "<matplotlib.axes._subplots.AxesSubplot at 0x7f8b69b54950>"
            ]
          },
          "metadata": {},
          "execution_count": 59
        },
        {
          "output_type": "display_data",
          "data": {
            "text/plain": [
              "<Figure size 432x288 with 1 Axes>"
            ],
            "image/png": "[encoded data removed]"
          },
          "metadata": {
            "needs_background": "light"
          }
        }
      ]
    },
    {
      "cell_type": "code",
      "source": [
        "dataframe3 = gpd.read_file(\"/content/Fortune_500_Corporate_Headquarters.shp\")"
      ],
      "metadata": {
        "id": "5ga5u3N-gkSQ"
      },
      "execution_count": null,
      "outputs": []
    },
    {
      "cell_type": "code",
      "source": [
        "#dataframe3 = dataframes.set_geometry('geometry') \n"
      ],
      "metadata": {
        "id": "yQVak5bihj4Y"
      },
      "execution_count": null,
      "outputs": []
    },
    {
      "cell_type": "code",
      "source": [
        "dataframe3.shape"
      ],
      "metadata": {
        "outputId": "af816d1e-8522-4b40-9272-f6e3b9ebc22b",
        "colab": {
          "base_uri": "https://localhost:8080/"
        },
        "id": "tldqQ_Y8huu2"
      },
      "execution_count": null,
      "outputs": [
        {
          "output_type": "execute_result",
          "data": {
            "text/plain": [
              "(500, 1)"
            ]
          },
          "metadata": {},
          "execution_count": 61
        }
      ]
    },
    {
      "cell_type": "code",
      "source": [
        "dataframe3.plot()"
      ],
      "metadata": {
        "outputId": "c9f9569b-8a52-46f0-a605-f90b90d017b6",
        "colab": {
          "base_uri": "https://localhost:8080/",
          "height": 267
        },
        "id": "-mITZji0h36s"
      },
      "execution_count": null,
      "outputs": [
        {
          "output_type": "execute_result",
          "data": {
            "text/plain": [
              "<matplotlib.axes._subplots.AxesSubplot at 0x7f8b69f8c250>"
            ]
          },
          "metadata": {},
          "execution_count": 62
        },
        {
          "output_type": "display_data",
          "data": {
            "text/plain": [
              "<Figure size 432x288 with 1 Axes>"
            ],
            "image/png": "[encoded data removed]"
          },
          "metadata": {
            "needs_background": "light"
          }
        }
      ]
    },
    {
      "cell_type": "code",
      "source": [
        "import matplotlib.pyplot as plt"
      ],
      "metadata": {
        "id": "DLu0_lGtk-iV"
      },
      "execution_count": null,
      "outputs": []
    },
    {
      "cell_type": "code",
      "source": [
        "ax=dataframes.plot(color = 'r')\n",
        "dataframe2.plot(ax=ax,color='g')\n",
        "#dataframe3.plot(ax=ax,color='b')\n",
        "dataframes.plot(ax=ax,color = 'r')\n",
        "\n",
        "plt.show()"
      ],
      "metadata": {
        "colab": {
          "base_uri": "https://localhost:8080/",
          "height": 213
        },
        "id": "QX4kmcM4lOCa",
        "outputId": "d5d99a4e-9c38-49f4-fdea-1d2ec2fd5509"
      },
      "execution_count": null,
      "outputs": [
        {
          "output_type": "display_data",
          "data": {
            "text/plain": [
              "<Figure size 432x288 with 1 Axes>"
            ],
            "image/png": "[encoded data removed]"
          },
          "metadata": {
            "needs_background": "light"
          }
        }
      ]
    },
    {
      "cell_type": "code",
      "source": [
        "list1 = [\"agri\" for i in range(len(dataframes))]"
      ],
      "metadata": {
        "id": "VCxqG-Bun9__"
      },
      "execution_count": null,
      "outputs": []
    },
    {
      "cell_type": "code",
      "source": [
        "list2 = [\"hq\" for i in range(len(dataframe2))]"
      ],
      "metadata": {
        "id": "Qp9-aHQNoa3B"
      },
      "execution_count": null,
      "outputs": []
    },
    {
      "cell_type": "code",
      "source": [
        "list3 = [\"ng\" for i in range(len(dataframe3))]"
      ],
      "metadata": {
        "id": "XZnbx9x8ogDJ"
      },
      "execution_count": null,
      "outputs": []
    },
    {
      "cell_type": "code",
      "source": [
        "dataframes.insert(1,\"label\",list1,True)"
      ],
      "metadata": {
        "id": "afXbe2-rokEs"
      },
      "execution_count": null,
      "outputs": []
    },
    {
      "cell_type": "code",
      "source": [
        "dataframe2.insert(1,\"label\",list2,True)"
      ],
      "metadata": {
        "id": "ZhbH5dOJo4H_"
      },
      "execution_count": null,
      "outputs": []
    },
    {
      "cell_type": "code",
      "source": [
        "dataframe3.insert(1,\"label\",list3,True)"
      ],
      "metadata": {
        "id": "u1GzCm7xo_U7"
      },
      "execution_count": null,
      "outputs": []
    },
    {
      "cell_type": "code",
      "source": [
        "print(dataframe3)"
      ],
      "metadata": {
        "colab": {
          "base_uri": "https://localhost:8080/"
        },
        "id": "jaYg3FBUowGE",
        "outputId": "61bd2def-ba2f-4f84-ab61-da73622587cc"
      },
      "execution_count": null,
      "outputs": [
        {
          "output_type": "stream",
          "name": "stdout",
          "text": [
            "                              geometry label\n",
            "0    POINT (-12933208.647 5403708.524)    ng\n",
            "1    POINT (-12929421.558 5392879.208)    ng\n",
            "2     POINT (-8842929.805 4313449.005)    ng\n",
            "3    POINT (-13576184.459 4507431.922)    ng\n",
            "4    POINT (-13578712.525 4508509.434)    ng\n",
            "..                                 ...   ...\n",
            "495   POINT (-9784043.704 5206343.541)    ng\n",
            "496   POINT (-8367716.917 4859358.685)    ng\n",
            "497   POINT (-9407100.324 4736451.976)    ng\n",
            "498  POINT (-10382712.133 5617627.520)    ng\n",
            "499  POINT (-10352182.763 5613758.828)    ng\n",
            "\n",
            "[500 rows x 2 columns]\n"
          ]
        }
      ]
    },
    {
      "cell_type": "code",
      "source": [
        "pd.merge(pd.merge(dataframes,dataframe2),dataframe3)\n"
      ],
      "metadata": {
        "id": "ErdAgryBpgaF"
      },
      "execution_count": null,
      "outputs": []
    },
    {
      "cell_type": "code",
      "source": [
        "print(pd)"
      ],
      "metadata": {
        "colab": {
          "base_uri": "https://localhost:8080/"
        },
        "id": "TlfeBWpepgY_",
        "outputId": "54d3aa50-4391-4767-883b-a11138c4cfb2"
      },
      "execution_count": null,
      "outputs": [
        {
          "output_type": "stream",
          "name": "stdout",
          "text": [
            "<module 'pandas' from '/usr/local/lib/python3.7/dist-packages/pandas/__init__.py'>\n"
          ]
        }
      ]
    },
    {
      "cell_type": "code",
      "source": [
        "df_3 = pd.concat([dataframes, dataframe2,dataframe3])\n",
        "print(df_3)"
      ],
      "metadata": {
        "colab": {
          "base_uri": "https://localhost:8080/"
        },
        "id": "afwq2TqJqmi9",
        "outputId": "1fb6c709-8def-4ecd-bf47-3170f2ddcbfc"
      },
      "execution_count": null,
      "outputs": [
        {
          "output_type": "stream",
          "name": "stdout",
          "text": [
            "                              geometry label\n",
            "0              POINT (-114.555 35.132)  agri\n",
            "1              POINT (-117.046 32.628)  agri\n",
            "2               POINT (-75.161 38.783)  agri\n",
            "3               POINT (-85.267 29.842)  agri\n",
            "4               POINT (-86.291 44.224)  agri\n",
            "..                                 ...   ...\n",
            "495   POINT (-9784043.704 5206343.541)    ng\n",
            "496   POINT (-8367716.917 4859358.685)    ng\n",
            "497   POINT (-9407100.324 4736451.976)    ng\n",
            "498  POINT (-10382712.133 5617627.520)    ng\n",
            "499  POINT (-10352182.763 5613758.828)    ng\n",
            "\n",
            "[17668 rows x 2 columns]\n"
          ]
        }
      ]
    },
    {
      "cell_type": "code",
      "source": [
        "df_3.to_csv(\"dataframes.csv\")"
      ],
      "metadata": {
        "id": "Vo8KKoolqyi4"
      },
      "execution_count": null,
      "outputs": []
    }
  ],
  "metadata": {
    "colab": {
      "collapsed_sections": [],
      "name": "task_1",
      "provenance": []
    },
    "kernelspec": {
      "display_name": "Python 3",
      "name": "python3"
    }
  },
  "nbformat": 4,
  "nbformat_minor": 0
}